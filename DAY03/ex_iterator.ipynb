{
 "cells": [
  {
   "cell_type": "markdown",
   "metadata": {},
   "source": [
    "### Iterator\n",
    "- iterable : for in 에서 구동 가능한 객체들 : list, tuple, dict, set, str, range\n",
    "- iterator : __iter__() 메서드를 가진 객체"
   ]
  },
  {
   "cell_type": "code",
   "execution_count": 1,
   "metadata": {},
   "outputs": [],
   "source": [
    "a = [10,20]\n",
    "b = a.__iter__()"
   ]
  },
  {
   "cell_type": "code",
   "execution_count": 2,
   "metadata": {},
   "outputs": [
    {
     "data": {
      "text/plain": [
       "(10, 20)"
      ]
     },
     "execution_count": 2,
     "metadata": {},
     "output_type": "execute_result"
    }
   ],
   "source": [
    "next(b), next(b)"
   ]
  },
  {
   "cell_type": "code",
   "execution_count": 3,
   "metadata": {},
   "outputs": [
    {
     "name": "stdout",
     "output_type": "stream",
     "text": [
      "Iter stopped\n"
     ]
    }
   ],
   "source": [
    "try:\n",
    "    next(b)\n",
    "except StopIteration:\n",
    "    print(\"Iter stopped\")\n",
    "    "
   ]
  },
  {
   "cell_type": "markdown",
   "metadata": {},
   "source": [
    "### [제너레이터 함수] <hr>\n",
    "\n",
    "- 형식 : def 함수명(): yield 값 반환\n",
    "- 코드 실행 후 결과를 반환\n",
    "- 실행 된 상태 정보 유지 ==> 다시 호출되면 이정 실행 정보를 바탕으로 동작\n",
    "- 장점 : 메모리 효율 ==> 대량의 데이터 처리에 효율적 ==> 현재 실행되는 만큼만 메모리 사용\n"
   ]
  },
  {
   "cell_type": "code",
   "execution_count": 4,
   "metadata": {},
   "outputs": [
    {
     "name": "stdout",
     "output_type": "stream",
     "text": [
      "<class 'list'> <class 'generator'>\n",
      "[10, 20, 30, 40]\n"
     ]
    }
   ],
   "source": [
    "def make_value():\n",
    "    data = [10,20,30,40]\n",
    "    return data * 10\n",
    "\n",
    "def make_value_gen():\n",
    "    data = [10,20,30,40]\n",
    "    yield data\n",
    "\n",
    "def make_value_gen_from():\n",
    "    data = [10,20,30,40]\n",
    "    yield from data\n",
    "\n",
    "\n",
    "print(type(make_value()), type(make_value_gen()))\n",
    "\n",
    "for i in make_value_gen():\n",
    "    print(i)\n",
    "    break"
   ]
  },
  {
   "cell_type": "code",
   "execution_count": 5,
   "metadata": {},
   "outputs": [],
   "source": [
    "class A:\n",
    "    def __init__(self, data) -> None:\n",
    "        self.data = data\n",
    "\n",
    "    ### A 인스턴스끼리 덧셈 연산 진행시 호출되는 메서드\n",
    "    def __add__(self, other):\n",
    "        return self.data + other.data\n",
    "    \n",
    "    ### A 인스턴스끼리 뺄셈 연산 진행시 호출되는 메서드\n",
    "    def __sub__(self, other):\n",
    "        return self.data - other.data\n",
    "    \n"
   ]
  },
  {
   "cell_type": "code",
   "execution_count": 6,
   "metadata": {},
   "outputs": [
    {
     "name": "stdout",
     "output_type": "stream",
     "text": [
      "[10, 20, 30, 40, 50, 60]\n"
     ]
    }
   ],
   "source": [
    "a = A([10,20,30])\n",
    "b = A([40,50,60])\n",
    "\n",
    "print(a + b)"
   ]
  },
  {
   "cell_type": "code",
   "execution_count": 7,
   "metadata": {},
   "outputs": [
    {
     "name": "stdout",
     "output_type": "stream",
     "text": [
      "10\n"
     ]
    }
   ],
   "source": [
    "for i in make_value_gen_from():\n",
    "    print(i)\n",
    "    break"
   ]
  },
  {
   "cell_type": "code",
   "execution_count": 8,
   "metadata": {},
   "outputs": [
    {
     "data": {
      "text/plain": [
       "(15, 5)"
      ]
     },
     "execution_count": 8,
     "metadata": {},
     "output_type": "execute_result"
    }
   ],
   "source": [
    "a1, a2 = A(10), A(5)\n",
    "a1 + a2 , a1 - a2"
   ]
  },
  {
   "cell_type": "code",
   "execution_count": 9,
   "metadata": {},
   "outputs": [],
   "source": [
    "def many_data_noyield():\n",
    "    for n in range(50):\n",
    "        print(n)\n",
    "    return n"
   ]
  },
  {
   "cell_type": "code",
   "execution_count": 10,
   "metadata": {},
   "outputs": [
    {
     "name": "stdout",
     "output_type": "stream",
     "text": [
      "<generator object many_data at 0x7f1c6d7b4200>\n",
      "0\n",
      "None\n"
     ]
    }
   ],
   "source": [
    "def many_data():\n",
    "    for n in range(50):\n",
    "        yield print(n)\n",
    "\n",
    "print(many_data())\n",
    "\n",
    "# for x in many_data():\n",
    "#     x\n",
    "\n",
    "\n",
    "print(next(many_data()))"
   ]
  },
  {
   "cell_type": "code",
   "execution_count": 11,
   "metadata": {},
   "outputs": [],
   "source": [
    "a = [value for value in range(100)]\n",
    "d = { k : k * 5 for k in range(100)}\n",
    "\n"
   ]
  },
  {
   "cell_type": "code",
   "execution_count": null,
   "metadata": {},
   "outputs": [],
   "source": []
  }
 ],
 "metadata": {
  "kernelspec": {
   "display_name": "Python 3",
   "language": "python",
   "name": "python3"
  },
  "language_info": {
   "codemirror_mode": {
    "name": "ipython",
    "version": 3
   },
   "file_extension": ".py",
   "mimetype": "text/x-python",
   "name": "python",
   "nbconvert_exporter": "python",
   "pygments_lexer": "ipython3",
   "version": "3.9.undefined"
  }
 },
 "nbformat": 4,
 "nbformat_minor": 2
}
