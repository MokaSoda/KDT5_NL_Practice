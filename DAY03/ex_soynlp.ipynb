{
 "cells": [
  {
   "cell_type": "markdown",
   "metadata": {},
   "source": [
    "## Soynlp 학습기반 토크나이저\n",
    "<hr>\n",
    "\n",
    "- 품사 태깅, 단어 토큰화 등을 지원하는 단어 토크나이저\n",
    "- 비지도 학습으로 단어 토큰화 ==> 데이터에 자주 등장하는 단어들을 단어로 분석\n",
    "- 내부적으로 단어 점수 표로 인식"
   ]
  },
  {
   "cell_type": "code",
   "execution_count": 3,
   "metadata": {},
   "outputs": [],
   "source": [
    "# !pip install soynlp"
   ]
  },
  {
   "cell_type": "code",
   "execution_count": 14,
   "metadata": {},
   "outputs": [
    {
     "name": "stdout",
     "output_type": "stream",
     "text": [
      "[('에이', 'Noun'), ('비식스', 'Noun'), ('이대', 'Modifier'), ('휘', 'Noun'), ('1월', 'Number'), ('최애', 'Noun'), ('돌', 'Noun'), ('기부', 'Noun'), ('요정', 'Noun'), ('이다', 'Adjective'), ('.', 'Punctuation')]\n",
      "[('에이', 'Noun'), ('비식스', 'Noun'), ('이대', 'Modifier'), ('휘', 'Noun'), ('1월', 'Number'), ('최애돌기부요정입니다', 'Foreign'), ('.', 'Punctuation')]\n"
     ]
    }
   ],
   "source": [
    "from konlpy.tag import Mecab, Okt\n",
    "\n",
    "tokenizer = Okt()\n",
    "sentence = '에이비식스 이대휘 1월 최애돌 기부 요정 입니다.'\n",
    "\n",
    "# 형태소 분석 시 매개변수 stem = True 설정\n",
    "print(tokenizer.pos('에이비식스 이대휘 1월 최애돌 기부 요정 입니다.', stem=True))\n",
    "print(tokenizer.pos('에이비식스이대휘1월최애돌기부요정입니다.'))\n",
    "\n"
   ]
  },
  {
   "cell_type": "markdown",
   "metadata": {},
   "source": [
    "### 토크나이저 사용시 미리 말뭉치 데이터셋으로 학습 후 사용 가능\n"
   ]
  },
  {
   "cell_type": "code",
   "execution_count": 17,
   "metadata": {},
   "outputs": [
    {
     "name": "stdout",
     "output_type": "stream",
     "text": [
      "훈련 데이터 문서 : 30091개\n"
     ]
    }
   ],
   "source": [
    "filename = 'text_data.txt'\n",
    "basedir = '../DATA/'\n",
    "\n",
    "# 한개로 통합된 문서 데이터 정리\n",
    "from soynlp import DoublespaceLineCorpus\n",
    "# 단어 추출\n",
    "from soynlp.word import WordExtractor\n",
    "\n",
    "corpus = DoublespaceLineCorpus(basedir + filename)\n",
    "print(f\"훈련 데이터 문서 : {len(corpus)}개\")\n"
   ]
  },
  {
   "cell_type": "code",
   "execution_count": 18,
   "metadata": {},
   "outputs": [
    {
     "name": "stdout",
     "output_type": "stream",
     "text": [
      "training was done. used memory 1.277 Gb\n",
      "all cohesion probabilities was computed. # words = 223348\n",
      "all branching entropies was computed # words = 361598\n",
      "all accessor variety was computed # words = 361598\n"
     ]
    }
   ],
   "source": [
    "\n",
    "word_extractor = WordExtractor()\n",
    "word_extractor.train(corpus)\n",
    "word_score_table = word_extractor.extract()\n"
   ]
  },
  {
   "cell_type": "code",
   "execution_count": 19,
   "metadata": {},
   "outputs": [
    {
     "name": "stdout",
     "output_type": "stream",
     "text": [
      "1. 춘 : Scores(cohesion_forward=0, cohesion_backward=0, left_branching_entropy=3.5202186749788362, right_branching_entropy=3.6047001222868227, left_accessor_variety=60, right_accessor_variety=132, leftside_frequency=549, rightside_frequency=818)\n",
      "2. 싫 : Scores(cohesion_forward=0, cohesion_backward=0, left_branching_entropy=2.853861143073829, right_branching_entropy=1.5625414514665827, left_accessor_variety=31, right_accessor_variety=8, leftside_frequency=280, rightside_frequency=0)\n",
      "3. 딸 : Scores(cohesion_forward=0, cohesion_backward=0, left_branching_entropy=3.245875269275488, right_branching_entropy=3.2099383945584727, left_accessor_variety=76, right_accessor_variety=65, leftside_frequency=574, rightside_frequency=32)\n",
      "4. 혀 : Scores(cohesion_forward=0, cohesion_backward=0, left_branching_entropy=1.6934449658569768, right_branching_entropy=3.959341704691131, left_accessor_variety=7, right_accessor_variety=113, leftside_frequency=35, rightside_frequency=1061)\n",
      "5. 리 : Scores(cohesion_forward=0, cohesion_backward=0, left_branching_entropy=4.140770748103787, right_branching_entropy=5.205298614857228, left_accessor_variety=381, right_accessor_variety=618, leftside_frequency=5728, rightside_frequency=21943)\n",
      "6. 깐 : Scores(cohesion_forward=0, cohesion_backward=0, left_branching_entropy=1.1418572655728578, right_branching_entropy=2.7233832711814316, left_accessor_variety=4, right_accessor_variety=19, leftside_frequency=22, rightside_frequency=84)\n",
      "7. 킴 : Scores(cohesion_forward=0, cohesion_backward=0, left_branching_entropy=1.0397207708399179, right_branching_entropy=-0.0, left_accessor_variety=3, right_accessor_variety=1, leftside_frequency=5, rightside_frequency=7)\n",
      "8. 뭇 : Scores(cohesion_forward=0, cohesion_backward=0, left_branching_entropy=0.6837389058487535, right_branching_entropy=1.0591434127615207, left_accessor_variety=3, right_accessor_variety=4, leftside_frequency=20, rightside_frequency=22)\n",
      "9. 낌 : Scores(cohesion_forward=0, cohesion_backward=0, left_branching_entropy=0.6615632381579821, right_branching_entropy=1.7163316357961729, left_accessor_variety=2, right_accessor_variety=7, leftside_frequency=0, rightside_frequency=51)\n",
      "10. 베 : Scores(cohesion_forward=0, cohesion_backward=0, left_branching_entropy=4.292518159500382, right_branching_entropy=2.5432651323199935, left_accessor_variety=167, right_accessor_variety=41, leftside_frequency=2401, rightside_frequency=104)\n",
      "11. 거 : Scores(cohesion_forward=0, cohesion_backward=0, left_branching_entropy=4.020667239837608, right_branching_entropy=4.268379965141522, left_accessor_variety=286, right_accessor_variety=309, leftside_frequency=10880, rightside_frequency=2616)\n",
      "12. 락 : Scores(cohesion_forward=0, cohesion_backward=0, left_branching_entropy=2.4251041124565353, right_branching_entropy=4.076460782749974, left_accessor_variety=26, right_accessor_variety=110, leftside_frequency=47, rightside_frequency=851)\n",
      "13. 롭 : Scores(cohesion_forward=0, cohesion_backward=0, left_branching_entropy=-0.0, right_branching_entropy=1.0361987848192837, left_accessor_variety=1, right_accessor_variety=3, leftside_frequency=0, rightside_frequency=17)\n",
      "14. 돛 : Scores(cohesion_forward=0, cohesion_backward=0, left_branching_entropy=-0.0, right_branching_entropy=0, left_accessor_variety=1, right_accessor_variety=0, leftside_frequency=5, rightside_frequency=0)\n",
      "15. 훙 : Scores(cohesion_forward=0, cohesion_backward=0, left_branching_entropy=0.6730116670092565, right_branching_entropy=2.04942938093195, left_accessor_variety=2, right_accessor_variety=9, leftside_frequency=14, rightside_frequency=31)\n",
      "16. 끼 : Scores(cohesion_forward=0, cohesion_backward=0, left_branching_entropy=2.740199253388716, right_branching_entropy=3.485173345926067, left_accessor_variety=42, right_accessor_variety=70, leftside_frequency=972, rightside_frequency=228)\n",
      "17. 급 : Scores(cohesion_forward=0, cohesion_backward=0, left_branching_entropy=4.176220974859222, right_branching_entropy=4.817111895066352, left_accessor_variety=157, right_accessor_variety=277, leftside_frequency=1915, rightside_frequency=3055)\n",
      "18. 금 : Scores(cohesion_forward=0, cohesion_backward=0, left_branching_entropy=2.229591431478081, right_branching_entropy=2.2871286532245616, left_accessor_variety=321, right_accessor_variety=353, leftside_frequency=26859, rightside_frequency=5699)\n",
      "19. 힐 : Scores(cohesion_forward=0, cohesion_backward=0, left_branching_entropy=3.5415329702225025, right_branching_entropy=1.8587138019600133, left_accessor_variety=110, right_accessor_variety=45, leftside_frequency=2041, rightside_frequency=268)\n",
      "20. 뺏 : Scores(cohesion_forward=0, cohesion_backward=0, left_branching_entropy=2.2118374851828713, right_branching_entropy=1.223406487458574, left_accessor_variety=10, right_accessor_variety=4, leftside_frequency=55, rightside_frequency=0)\n",
      "21. 껏 : Scores(cohesion_forward=0, cohesion_backward=0, left_branching_entropy=1.294556589016347, right_branching_entropy=3.7864483995313125, left_accessor_variety=6, right_accessor_variety=57, leftside_frequency=0, rightside_frequency=401)\n",
      "22. 취 : Scores(cohesion_forward=0, cohesion_backward=0, left_branching_entropy=3.685156818069401, right_branching_entropy=2.7712557846291497, left_accessor_variety=198, right_accessor_variety=88, leftside_frequency=6134, rightside_frequency=360)\n",
      "23. 강 : Scores(cohesion_forward=0, cohesion_backward=0, left_branching_entropy=4.24228383254578, right_branching_entropy=3.708816193705747, left_accessor_variety=369, right_accessor_variety=244, leftside_frequency=19071, rightside_frequency=1006)\n",
      "24. 룡 : Scores(cohesion_forward=0, cohesion_backward=0, left_branching_entropy=0.9870594928218845, right_branching_entropy=2.009468883404426, left_accessor_variety=5, right_accessor_variety=27, leftside_frequency=0, rightside_frequency=287)\n",
      "25. 궤 : Scores(cohesion_forward=0, cohesion_backward=0, left_branching_entropy=2.654684208526636, right_branching_entropy=0.8123505873951785, left_accessor_variety=19, right_accessor_variety=5, leftside_frequency=122, rightside_frequency=0)\n",
      "26. 째 : Scores(cohesion_forward=0, cohesion_backward=0, left_branching_entropy=1.6497349798420191, right_branching_entropy=4.665645250676689, left_accessor_variety=21, right_accessor_variety=216, leftside_frequency=14, rightside_frequency=2227)\n",
      "27. 난 : Scores(cohesion_forward=0, cohesion_backward=0, left_branching_entropy=3.3380662483317556, right_branching_entropy=3.549774952341598, left_accessor_variety=121, right_accessor_variety=312, leftside_frequency=1104, rightside_frequency=12194)\n",
      "28. 는 : Scores(cohesion_forward=0, cohesion_backward=0, left_branching_entropy=4.020761321560399, right_branching_entropy=5.338319520045778, left_accessor_variety=485, right_accessor_variety=912, leftside_frequency=15, rightside_frequency=221627)\n",
      "29. 뭐 : Scores(cohesion_forward=0, cohesion_backward=0, left_branching_entropy=3.0347687884507413, right_branching_entropy=2.5952144193306075, left_accessor_variety=34, right_accessor_variety=25, leftside_frequency=324, rightside_frequency=0)\n",
      "30. 벳 : Scores(cohesion_forward=0, cohesion_backward=0, left_branching_entropy=0.8982308258698813, right_branching_entropy=2.3942435448646626, left_accessor_variety=3, right_accessor_variety=12, leftside_frequency=0, rightside_frequency=55)\n",
      "31. 깃 : Scores(cohesion_forward=0, cohesion_backward=0, left_branching_entropy=2.1896716803591296, right_branching_entropy=1.511766183510537, left_accessor_variety=12, right_accessor_variety=5, leftside_frequency=88, rightside_frequency=15)\n",
      "32. 멤 : Scores(cohesion_forward=0, cohesion_backward=0, left_branching_entropy=3.7411212247267276, right_branching_entropy=0.030334631974982613, left_accessor_variety=92, right_accessor_variety=2, leftside_frequency=1256, rightside_frequency=0)\n"
     ]
    }
   ],
   "source": [
    "for idx, key in enumerate(word_score_table.keys()):\n",
    "    print(f\"{idx+1}. {key} : {word_score_table[key]}\")\n",
    "    if idx > 30: break"
   ]
  },
  {
   "cell_type": "code",
   "execution_count": 29,
   "metadata": {},
   "outputs": [
    {
     "data": {
      "text/plain": [
       "(0.07716779358040307, 0.11518621707955429)"
      ]
     },
     "execution_count": 29,
     "metadata": {},
     "output_type": "execute_result"
    }
   ],
   "source": [
    "word_score_table['바다를'].cohesion_forward, word_score_table['바다에'].cohesion_forward"
   ]
  },
  {
   "cell_type": "code",
   "execution_count": 33,
   "metadata": {},
   "outputs": [
    {
     "data": {
      "text/plain": [
       "[('국제사회', '와'), ('우리', '의'), ('노력', '들로'), ('범죄', '를'), ('척결', '하자')]"
      ]
     },
     "execution_count": 33,
     "metadata": {},
     "output_type": "execute_result"
    }
   ],
   "source": [
    "from soynlp.tokenizer import LTokenizer\n",
    "\n",
    "# 토큰으로 쪼개기 위한 L토큰 기준값\n",
    "scores = {word:score.cohesion_forward for word, score in word_score_table.items()}\n",
    "l_tokenizer = LTokenizer(scores=scores)\n",
    "l_tokenizer.tokenize('국제사회와 우리의 노력들로 범죄를 척결하자', flatten=False)"
   ]
  },
  {
   "cell_type": "code",
   "execution_count": null,
   "metadata": {},
   "outputs": [],
   "source": []
  },
  {
   "cell_type": "code",
   "execution_count": 35,
   "metadata": {},
   "outputs": [
    {
     "data": {
      "text/plain": [
       "[[('국제사회', 0, 4, 0.20075093164820862, 4),\n",
       "  ('와', 4, 5, 0.0, 1),\n",
       "  ('우리', 5, 7, 0.4698248708580068, 2),\n",
       "  ('의', 7, 8, 0.0, 1),\n",
       "  ('노력', 8, 10, 0.17947431781701445, 2),\n",
       "  ('들로', 10, 12, 0.0, 2),\n",
       "  ('범죄', 12, 14, 0.29525483304042177, 2),\n",
       "  ('를', 14, 15, 0.0, 1),\n",
       "  ('척결', 15, 17, 0.1326530612244898, 2),\n",
       "  ('하자', 17, 19, 0.0, 2)]]"
      ]
     },
     "execution_count": 35,
     "metadata": {},
     "output_type": "execute_result"
    }
   ],
   "source": [
    "### 최대 점수 토크나이저\n",
    "# 띄어쓰기가 되지 않는 문장에서 점수가 높은 글자 시퀀스를 순차적으로 찾아내는 토크나이저\n",
    "# 띄어쓰기가 되어 있지 않는 문장을 넣어서 점수를 통해 토큰화 된 결과\n",
    "\n",
    "from soynlp.tokenizer import MaxScoreTokenizer\n",
    "\n",
    "maxscore_token = MaxScoreTokenizer(scores=scores)\n",
    "maxscore_token.tokenize('국제사회와우리의노력들로범죄를척결하자', flatten=False)"
   ]
  },
  {
   "cell_type": "code",
   "execution_count": 49,
   "metadata": {},
   "outputs": [
    {
     "name": "stdout",
     "output_type": "stream",
     "text": [
      "!\"#$%&'()*+,-./:;<=>?@[\\]^_`{|}~\n",
      "ㅋㅋㅠㅠ 영화ㅠㅠ감동적^^^^^^\n"
     ]
    }
   ],
   "source": [
    "## soynlp 를 이용한 반복되는 문자 정제\n",
    "# ㅋㅋ, ㅎㅎ 등의 이모티콘의 경우 불필요하게 연속되는 경우가 많음\n",
    "# 반복되는 것은 하나로 정규화\n",
    "\n",
    "from soynlp.normalizer import *\n",
    "\n",
    "import string\n",
    "print(string.punctuation)\n",
    "\n",
    "print(emoticon_normalize('ㅋㅋㅋㅋㅋㅋㅋㅋㅋㅋㅋㅋㅋ큐ㅠㅠㅠㅠㅠㅠㅠㅠㅠㅠ'), emoticon_normalize('영화ㅠㅠㅠㅠㅠㅠㅠㅠㅠㅠㅠㅠㅠㅠㅠㅠ감동적^^^^^^'))\n",
    "\n",
    "\n"
   ]
  },
  {
   "cell_type": "code",
   "execution_count": null,
   "metadata": {},
   "outputs": [],
   "source": [
    "# !pip install customized_konlpy"
   ]
  },
  {
   "cell_type": "code",
   "execution_count": 65,
   "metadata": {},
   "outputs": [
    {
     "data": {
      "text/plain": [
       "['은', '경이', '는', '사무실', '로', '갔습니다', '.']"
      ]
     },
     "execution_count": 65,
     "metadata": {},
     "output_type": "execute_result"
    }
   ],
   "source": [
    "from ckonlpy.tag import Twitter\n",
    "\n",
    "\n",
    "twitter = Twitter()\n",
    "twitter.morphs('은경이는 사무실로 갔습니다.')"
   ]
  },
  {
   "cell_type": "code",
   "execution_count": 66,
   "metadata": {},
   "outputs": [
    {
     "data": {
      "text/plain": [
       "['은경이', '는', '사무실', '로', '갔습니다', '.']"
      ]
     },
     "execution_count": 66,
     "metadata": {},
     "output_type": "execute_result"
    }
   ],
   "source": [
    "twitter.add_dictionary('은경이', 'Noun')\n",
    "twitter.morphs('은경이는 사무실로 갔습니다.')\n"
   ]
  },
  {
   "cell_type": "code",
   "execution_count": 71,
   "metadata": {},
   "outputs": [
    {
     "data": {
      "text/plain": [
       "['은경', '이', '는', '사무실', '로', '갔', '습니다', '.']"
      ]
     },
     "execution_count": 71,
     "metadata": {},
     "output_type": "execute_result"
    }
   ],
   "source": [
    "\n",
    "c_mecab = Mecab()\n",
    "c_mecab.morphs('은경이는 사무실로 갔습니다.')\n"
   ]
  }
 ],
 "metadata": {
  "kernelspec": {
   "display_name": "EXAM_DL",
   "language": "python",
   "name": "python3"
  },
  "language_info": {
   "codemirror_mode": {
    "name": "ipython",
    "version": 3
   },
   "file_extension": ".py",
   "mimetype": "text/x-python",
   "name": "python",
   "nbconvert_exporter": "python",
   "pygments_lexer": "ipython3",
   "version": "3.9.19"
  }
 },
 "nbformat": 4,
 "nbformat_minor": 2
}
