{
 "cells": [
  {
   "cell_type": "markdown",
   "metadata": {},
   "source": [
    "### torchtext 라이브러리로 텍스트 분류\n",
    "<hr>\n",
    "\n",
    "- 1단계 : 데이터 전처리 : 숫자형식으로 변환하는 것 까지\n",
    "- 2단계 : 모델 구현\n",
    "\n",
    "- 1-1 데이터 준비 => 내장 데이터셋 활용\n",
    "    * AG_NEWS 데이터셋 반복자 : 레이블 (label) + 문장의 튜플(tuple) 형태"
   ]
  },
  {
   "cell_type": "code",
   "execution_count": 1,
   "metadata": {},
   "outputs": [],
   "source": [
    "import torch\n",
    "from torchtext.datasets import AG_NEWS\n",
    "\n",
    "# ==> DataPipe 타입 >> iterator 타입 형변환\n",
    "train_iter = iter(AG_NEWS(split='train'))\n",
    "\n"
   ]
  },
  {
   "cell_type": "code",
   "execution_count": 2,
   "metadata": {},
   "outputs": [
    {
     "data": {
      "text/plain": [
       "(3,\n",
       " \"Wall St. Bears Claw Back Into the Black (Reuters) Reuters - Short-sellers, Wall Street's dwindling\\\\band of ultra-cynics, are seeing green again.\")"
      ]
     },
     "execution_count": 2,
     "metadata": {},
     "output_type": "execute_result"
    }
   ],
   "source": [
    "## 데이터 확인 => (label, text), label 1-4\n",
    "next(train_iter)"
   ]
  },
  {
   "cell_type": "markdown",
   "metadata": {},
   "source": [
    "- (2) 데이터 처리 파이프라인 준비 \n",
    "\n",
    "<hr>\n",
    "\n",
    "* 어휘집(vocab), 단어 벡터(word vector), 토크나이저(tokenizer)\n",
    "* 가공되지 않은 텍스트 문자열에 대한 데이터 처리 빌딜 블록\n",
    "* 일반적인 NLP 데이터 처리\n",
    "    * 첫번째 단계 : 가공되지 않은 학습 데이터셋으로 어휘집 생성\n",
    "        => 토큰 목록 또는 반복자 받는 내장 팩토리 함수(factor function) : build_vocab_from_iterator\n",
    "    * 사용자는 어휘집에 추가할 특수 기호 전달 가능"
   ]
  },
  {
   "cell_type": "code",
   "execution_count": 3,
   "metadata": {},
   "outputs": [],
   "source": [
    "from torchtext.data.utils import get_tokenizer\n",
    "from torchtext.vocab import build_vocab_from_iterator\n",
    "\n",
    "tokenizer = get_tokenizer('basic_english')\n",
    "\n",
    "train_iter = AG_NEWS(split='train')\n",
    "test_iter = AG_NEWS(split='test')"
   ]
  },
  {
   "cell_type": "code",
   "execution_count": 4,
   "metadata": {},
   "outputs": [],
   "source": [
    "# 토큰 제너레이터 함수 : 데이터 추출하여 토큰화\n",
    "def yield_tokens(data_iter):\n",
    "    for _, text in data_iter:\n",
    "        # 라벨, 텍스트  ---> 텍스트 토큰화\n",
    "        yield tokenizer(text)\n",
    "\n",
    "\n",
    "# 단어 사전 생성\n",
    "vocab = build_vocab_from_iterator(yield_tokens(train_iter), specials=['<unk>'])\n",
    "\n",
    "## <UNK> 인덱스를 0번으로 지정\n",
    "vocab.set_default_index(vocab['<unk>'])\n",
    "\n"
   ]
  },
  {
   "cell_type": "code",
   "execution_count": 5,
   "metadata": {},
   "outputs": [
    {
     "data": {
      "text/plain": [
       "[0, 1913, 229, 5297, 2238]"
      ]
     },
     "execution_count": 5,
     "metadata": {},
     "output_type": "execute_result"
    }
   ],
   "source": [
    "vocab(['<unk>','am', 'there', 'example', 'beta'])"
   ]
  },
  {
   "cell_type": "code",
   "execution_count": 6,
   "metadata": {},
   "outputs": [],
   "source": [
    "# 텍스트 ===> 정수 인코딩\n",
    "text_pipeline = lambda x : vocab(tokenizer(x))\n",
    "\n",
    "# 레이블 ===> 정수 인코딩\n",
    "label_pipeline = lambda x : int(x) - 1\n"
   ]
  },
  {
   "cell_type": "markdown",
   "metadata": {},
   "source": [
    "### (3) 데이터 배치(batch)와 반복자 생성\n",
    "<hr>\n",
    "\n",
    "- torch.utils.data.DataLoader : getitem(), len(), 구현한 맵 형태(map-style)\n",
    "- collate_fn() : DataLoader 로부터 생성된 샘플 배치 함수\n",
    "    * 입력 : DataLoader에 배치 크기(batch size)가 있는 배치(Batch) 데이터"
   ]
  },
  {
   "cell_type": "code",
   "execution_count": 7,
   "metadata": {},
   "outputs": [],
   "source": [
    "from torch.utils.data import DataLoader\n",
    "\n",
    "device = torch.device('cuda' if torch.cuda.is_available() else 'cpu')\n",
    "def collate_batch(batch):\n",
    "    # 배치크기 만큼의 라벨, 텍스트, 오프셋 값 저장 변수\n",
    "    label_list, text_list, offsets = [], [], [0]\n",
    "\n",
    "    # 1개씩 뉴스기사, 라벨 추출 해서 저장\n",
    "    for (_label, _text) in batch:\n",
    "        # 라벨 인코딩 후 저장\n",
    "        label_list.append(label_pipeline(_label))\n",
    "\n",
    "        # 텍스트 인코딩 후 저장\n",
    "        processed_text = torch.tensor(text_pipeline(_text), dtype=torch.int64)\n",
    "        text_list.append(processed_text)\n",
    "\n",
    "        # 텍스트 offset 즉, 텍스트 크기/길이 저장\n",
    "        offsets.append(processed_text.size(0))\n",
    "\n",
    "\n",
    "    label_list = torch.tensor(label_list, dtype=torch.int64)\n",
    "    offsets = torch.tensor(offsets[:-1]).cumsum(dim=0)\n",
    "    text_list = torch.cat(text_list)\n",
    "\n",
    "    return label_list.to(device), text_list.to(device), offsets.to(device)\n",
    "\n",
    "\n",
    "\n"
   ]
  },
  {
   "cell_type": "code",
   "execution_count": 8,
   "metadata": {},
   "outputs": [],
   "source": [
    "train_iter = AG_NEWS(split='train')\n",
    "dataloader = DataLoader(train_iter, batch_size=256, shuffle=False, collate_fn=collate_batch)\n",
    "testloader = DataLoader(test_iter, batch_size=256, shuffle=False, collate_fn=collate_batch)\n",
    "\n"
   ]
  },
  {
   "cell_type": "code",
   "execution_count": 9,
   "metadata": {},
   "outputs": [
    {
     "name": "stdout",
     "output_type": "stream",
     "text": [
      "num class =  4 , vocab_size =  95811\n"
     ]
    }
   ],
   "source": [
    "num_class = len(set([label for (label, text) in train_iter]))\n",
    "vocab_size = len(vocab)\n",
    "\n",
    "print('num class = ',num_class,', vocab_size = ' , vocab_size)"
   ]
  },
  {
   "cell_type": "code",
   "execution_count": 10,
   "metadata": {},
   "outputs": [
    {
     "name": "stdout",
     "output_type": "stream",
     "text": [
      "tensor([2, 2, 2, 2, 2, 2, 2, 2, 2, 2, 2, 2, 2, 2, 2, 2, 2, 2, 2, 2, 2, 2, 2, 2,\n",
      "        2, 2, 2, 2, 2, 2, 2, 2, 2, 2, 2, 2, 2, 2, 2, 2, 2, 2, 2, 2, 2, 2, 2, 2,\n",
      "        2, 2, 2, 2, 2, 2, 2, 2, 2, 2, 2, 2, 2, 2, 2, 2, 2, 2, 2, 2, 2, 2, 2, 2,\n",
      "        2, 2, 2, 2, 2, 2, 3, 3, 3, 3, 3, 3, 3, 3, 3, 3, 3, 3, 3, 3, 3, 3, 3, 3,\n",
      "        3, 3, 3, 3, 3, 3, 3, 3, 3, 3, 3, 3, 3, 3, 3, 3, 3, 3, 3, 3, 3, 3, 3, 3,\n",
      "        3, 3, 3, 3, 3, 3, 3, 3, 3, 3, 3, 3, 3, 3, 3, 3, 3, 3, 3, 3, 3, 3, 3, 3,\n",
      "        3, 3, 3, 3, 3, 3, 3, 3, 3, 3, 3, 3, 3, 3, 3, 3, 3, 3, 3, 3, 3, 3, 3, 3,\n",
      "        3, 3, 3, 3, 3, 3, 3, 3, 3, 3, 3, 3, 3, 3, 3, 3, 3, 3, 3, 3, 3, 3, 3, 3,\n",
      "        3, 3, 3, 3, 3, 3, 3, 3, 3, 3, 3, 3, 3, 3, 3, 3, 3, 3, 3, 3, 3, 3, 3, 3,\n",
      "        3, 3, 3, 3, 3, 3, 3, 3, 3, 3, 3, 3, 3, 3, 3, 3, 3, 3, 3, 3, 3, 3, 3, 3,\n",
      "        3, 3, 3, 3, 3, 3, 3, 3, 3, 3, 3, 3, 3, 3, 3, 3], device='cuda:0') tensor([ 431,  425,    1,  ...,  593, 1805,    1], device='cuda:0') tensor([    0,    29,    71,   111,   151,   194,   242,   289,   338,   426,\n",
      "          457,   501,   557,   588,   638,   692,   724,   750,   802,   834,\n",
      "          865,   894,   922,   944,   978,  1008,  1041,  1072,  1100,  1128,\n",
      "         1159,  1185,  1215,  1251,  1285,  1311,  1343,  1394,  1443,  1512,\n",
      "         1588,  1673,  1725,  1759,  1819,  1882,  1923,  1956,  1999,  2037,\n",
      "         2055,  2076,  2105,  2137,  2179,  2204,  2223,  2243,  2265,  2325,\n",
      "         2414,  2461,  2545,  2600,  2655,  2721,  2795,  2863,  2925,  2966,\n",
      "         3031,  3099,  3153,  3198,  3245,  3282,  3329,  3365,  3416,  3480,\n",
      "         3543,  3584,  3637,  3687,  3730,  3758,  3781,  3832,  3862,  3902,\n",
      "         3953,  4011,  4057,  4101,  4145,  4193,  4230,  4261,  4296,  4338,\n",
      "         4403,  4459,  4512,  4564,  4630,  4685,  4719,  4762,  4814,  4871,\n",
      "         4917,  4966,  5035,  5069,  5100,  5141,  5182,  5225,  5290,  5346,\n",
      "         5392,  5443,  5507,  5562,  5609,  5659,  5714,  5765,  5808,  5859,\n",
      "         5902,  5949,  6005,  6040,  6086,  6134,  6169,  6217,  6253,  6285,\n",
      "         6340,  6392,  6454,  6492,  6538,  6595,  6648,  6695,  6742,  6789,\n",
      "         6836,  6883,  6915,  6973,  7023,  7075,  7139,  7197,  7246,  7295,\n",
      "         7395,  7458,  7518,  7572,  7698,  7831,  7921,  8003,  8133,  8165,\n",
      "         8311,  8455,  8590,  8742,  8870,  8954,  9106,  9245,  9376,  9523,\n",
      "         9578,  9724,  9851,  9978, 10114, 10275, 10295, 10312, 10327, 10347,\n",
      "        10366, 10387, 10410, 10435, 10457, 10483, 10505, 10529, 10550, 10571,\n",
      "        10592, 10614, 10640, 10661, 10733, 10778, 10836, 10894, 10948, 10994,\n",
      "        11060, 11118, 11180, 11252, 11298, 11343, 11408, 11430, 11470, 11526,\n",
      "        11591, 11670, 11720, 11751, 11778, 11804, 11829, 11858, 11886, 11910,\n",
      "        11933, 11953, 11980, 12004, 12028, 12048, 12072, 12100, 12124, 12150,\n",
      "        12192, 12251, 12295, 12354, 12406, 12485, 12564, 12608, 12636, 12667,\n",
      "        12702, 12727, 12757, 12796, 12830, 12863], device='cuda:0')\n",
      "tensor([2, 3, 3, 3, 3, 3, 3, 3, 3, 3, 3, 3, 3, 3, 3, 3, 3, 3, 3, 3, 3, 3, 3, 3,\n",
      "        3, 3, 1, 1, 1, 1, 1, 1, 0, 0, 0, 0, 0, 0, 0, 0, 1, 2, 0, 3, 1, 1, 0, 3,\n",
      "        0, 1, 0, 1, 0, 3, 2, 3, 0, 0, 2, 2, 1, 1, 1, 3, 0, 3, 0, 0, 1, 0, 3, 3,\n",
      "        3, 0, 3, 1, 0, 1, 0, 0, 0, 1, 2, 2, 0, 0, 2, 0, 0, 3, 0, 2, 3, 2, 1, 1,\n",
      "        1, 2, 0, 2, 1, 2, 3, 2, 0, 1, 0, 1, 0, 3, 2, 3, 3, 3, 3, 1, 3, 3, 2, 1,\n",
      "        0, 1, 3, 0, 3, 2, 1, 1, 1, 0, 0, 0, 1, 0, 1, 1, 0, 1, 1, 0, 1, 0, 1, 0,\n",
      "        0, 0, 1, 2, 1, 1, 1, 0, 1, 0, 0, 0, 2, 1, 1, 0, 1, 2, 3, 0, 0, 2, 2, 2,\n",
      "        1, 0, 3, 3, 2, 3, 0, 0, 3, 1, 3, 1, 2, 1, 1, 3, 2, 0, 3, 0, 1, 3, 3, 0,\n",
      "        0, 0, 2, 2, 0, 1, 2, 1, 3, 3, 3, 0, 1, 1, 1, 3, 1, 3, 1, 0, 1, 1, 1, 3,\n",
      "        2, 2, 3, 1, 1, 0, 2, 1, 2, 2, 0, 1, 2, 0, 1, 1, 2, 3, 2, 1, 2, 1, 0, 2,\n",
      "        3, 1, 1, 3, 2, 2, 3, 3, 3, 0, 2, 0, 1, 2, 2, 3], device='cuda:0') tensor([869,  11,  83,  ...,  10,  57,   1], device='cuda:0') tensor([    0,    28,    87,   138,   203,   246,   404,   529,   661,   679,\n",
      "          719,   783,   834,   885,   911,   933,   958,  1009,  1068,  1119,\n",
      "         1147,  1173,  1196,  1214,  1291,  1342,  1369,  1403,  1488,  1566,\n",
      "         1650,  1695,  1730,  1781,  1842,  1905,  1978,  2005,  2051,  2099,\n",
      "         2156,  2198,  2244,  2301,  2363,  2421,  2461,  2503,  2564,  2613,\n",
      "         2653,  2704,  2755,  2801,  2837,  2893,  2923,  2974,  3026,  3063,\n",
      "         3115,  3162,  3201,  3284,  3325,  3372,  3398,  3446,  3498,  3534,\n",
      "         3585,  3633,  3709,  3741,  3762,  3815,  3867,  3915,  3945,  3995,\n",
      "         4017,  4057,  4085,  4136,  4197,  4242,  4289,  4349,  4403,  4485,\n",
      "         4559,  4606,  4628,  4670,  4708,  4742,  4788,  4831,  4911,  4964,\n",
      "         5020,  5071,  5122,  5175,  5193,  5249,  5289,  5359,  5390,  5438,\n",
      "         5467,  5520,  5579,  5613,  5666,  5706,  5738,  5774,  5882,  5934,\n",
      "         5981,  6039,  6085,  6134,  6184,  6260,  6290,  6319,  6355,  6411,\n",
      "         6448,  6493,  6545,  6589,  6613,  6657,  6723,  6752,  6808,  6854,\n",
      "         6884,  6923,  6955,  7002,  7046,  7088,  7116,  7157,  7206,  7252,\n",
      "         7304,  7331,  7385,  7422,  7462,  7523,  7547,  7600,  7649,  7693,\n",
      "         7738,  7786,  7834,  7888,  7936,  7982,  8044,  8108,  8154,  8192,\n",
      "         8229,  8335,  8371,  8423,  8486,  8542,  8611,  8654,  8679,  8730,\n",
      "         8756,  8814,  8844,  8868,  8905,  8980,  9027,  9064,  9098,  9137,\n",
      "         9161,  9221,  9281,  9330,  9356,  9414,  9454,  9529,  9566,  9624,\n",
      "         9661,  9747,  9786,  9838,  9892,  9938,  9980, 10009, 10061, 10093,\n",
      "        10138, 10192, 10247, 10290, 10343, 10392, 10452, 10492, 10537, 10579,\n",
      "        10608, 10669, 10702, 10735, 10788, 10827, 10865, 10903, 10938, 10970,\n",
      "        11018, 11067, 11122, 11160, 11201, 11239, 11270, 11319, 11362, 11403,\n",
      "        11453, 11492, 11534, 11556, 11649, 11694, 11734, 11785, 11810, 11846,\n",
      "        11879, 11926, 11951, 11993, 12049, 12083], device='cuda:0')\n"
     ]
    }
   ],
   "source": [
    "for labels, texts, offsets in dataloader:\n",
    "    print(labels, texts, offsets)\n",
    "    break\n",
    "\n",
    "for labels, texts, offsets in testloader:\n",
    "    print(labels, texts, offsets)\n",
    "    break\n",
    "\n"
   ]
  },
  {
   "cell_type": "code",
   "execution_count": 11,
   "metadata": {},
   "outputs": [],
   "source": [
    "import torch.nn as nn \n",
    "import torch.nn.functional as F\n",
    "\n",
    "embed_dim = 10\n",
    "HIDDEN = 30\n",
    "# 입력층 : EmbeddingBag Layer - 레이어와 분류(classification) 목적을 위한 선형 레이어, 텍스트의 길이는 오프셋(offset)\n",
    "# 은닉층 : Linear - 4개 클래스 분류\n",
    "\n",
    "class TextSentiment(nn.Module): \n",
    "    def __init__(self, vocab_size, embed_dim, num_class): \n",
    "        super(TextSentiment, self).__init__() \n",
    "        self.embedding = nn.EmbeddingBag(vocab_size, embed_dim, sparse=False) \n",
    "        self.rnn = nn.LSTM(embed_dim, hidden_size=HIDDEN)\n",
    "        self.fc = nn.Linear(HIDDEN, num_class) \n",
    "        self.init_weights() \n",
    "\n",
    "    def init_weights(self):\n",
    "        initrange = 0.5\n",
    "        self.embedding.weight.data.uniform_(-initrange, initrange)\n",
    "        self.fc.weight.data.uniform_(-initrange, initrange)\n",
    "        self.fc.bias.data.zero_()\n",
    "\n",
    "    def forward(self, text, offsets):\n",
    "        embedded = self.embedding(text, offsets)\n",
    "        output, _ = self.rnn(embedded)\n",
    "        return self.fc(output)\n",
    "\n",
    "device = torch.device('cuda' if torch.cuda.is_available() else 'cpu')\n",
    "\n",
    "model = TextSentiment(vocab_size, embed_dim, num_class).to(device)\n",
    "criterion = F.cross_entropy\n",
    "optimizer = torch.optim.Adam(model.parameters(), lr=0.1)\n"
   ]
  },
  {
   "cell_type": "code",
   "execution_count": 12,
   "metadata": {},
   "outputs": [],
   "source": [
    "import numpy as np\n",
    "from torchmetrics.classification import MulticlassAccuracy\n",
    "from torchmetrics.classification import MulticlassConfusionMatrix\n",
    "\n",
    "def train(model, dataloader, criterion, optimizer):\n",
    "    model.train()\n",
    "    totalloss = []\n",
    "    accu = MulticlassAccuracy(num_classes=num_class).to(device)\n",
    "    matrix = MulticlassConfusionMatrix(num_classes=num_class).to(device)\n",
    "    for labels, texts, offsets in dataloader:\n",
    "        \n",
    "        logits = model(texts, offsets)\n",
    "        loss = criterion(logits, labels)\n",
    "\n",
    "        optimizer.zero_grad()\n",
    "        loss.backward()\n",
    "        optimizer.step()\n",
    "        totalloss.append(loss.item())\n",
    "        \n",
    "        # 기울기 소실 및 폭주 예방을 위한 양극단 값 자르기\n",
    "        torch.nn.utils.clip_grad_norm_(model.parameters(), 0.1)\n",
    "\n",
    "        accu(logits, labels)\n",
    "        matrix(logits, labels)\n",
    "    \n",
    "    print(f\"trainloss : {np.mean(totalloss)}\")\n",
    "    print(f\"confusionmatrix :\\n{matrix.compute().cpu().numpy()}\")\n",
    "    print(f\"trainaccu : {accu.compute().item()}\")\n",
    "\n",
    "    # print(logits.shape, labels.shape)\n",
    "    return np.mean(totalloss)\n",
    "\n",
    "\n",
    "def test(model, dataloader, criterion):\n",
    "    model.eval()\n",
    "    totalloss = []\n",
    "    accu = MulticlassAccuracy(num_classes=num_class).to(device)\n",
    "    matrix = MulticlassConfusionMatrix(num_classes=num_class).to(device)\n",
    "    \n",
    "    with torch.no_grad():\n",
    "        for labels, texts, offsets in dataloader:\n",
    "            \n",
    "            logits = model(texts, offsets)\n",
    "            loss = criterion(logits, labels)\n",
    "\n",
    "            totalloss.append(loss.item())\n",
    "            accu(logits, labels)\n",
    "            matrix(logits, labels)\n",
    "\n",
    "        \n",
    "    # print(f\"testloss : {np.mean(totalloss)}\")\n",
    "    print(f\"confusionmatrix :\\n{matrix.compute().cpu().numpy()}\")\n",
    "    print(f\"testaccu : {accu.compute().item()}\")\n",
    "    return np.mean(totalloss)"
   ]
  },
  {
   "cell_type": "code",
   "execution_count": 13,
   "metadata": {},
   "outputs": [
    {
     "name": "stderr",
     "output_type": "stream",
     "text": [
      "/media/data/miniconda3/envs/EXAM_DL/lib/python3.9/site-packages/torch/utils/data/datapipes/iter/combining.py:337: UserWarning: Some child DataPipes are not exhausted when __iter__ is called. We are resetting the buffer and each child DataPipe will read from the start again.\n",
      "  warnings.warn(\"Some child DataPipes are not exhausted when __iter__ is called. We are resetting \"\n"
     ]
    },
    {
     "name": "stdout",
     "output_type": "stream",
     "text": [
      "trainloss : 0.669166087945387\n",
      "confusionmatrix :\n",
      "[[21019  3871  2883  2227]\n",
      " [ 3273 23728  1292  1707]\n",
      " [ 2657  1502 20546  5295]\n",
      " [ 1872  1467  4306 22355]]\n",
      "trainaccu : 0.7303999662399292\n",
      "confusionmatrix :\n",
      "[[ 806  143  689  262]\n",
      " [  66 1447   67  320]\n",
      " [ 142   67 1173  518]\n",
      " [  41   73  199 1587]]\n",
      "testaccu : 0.6596052646636963\n",
      "trainloss : 0.6958914637438524\n",
      "confusionmatrix :\n",
      "[[19058  2306  6156  2480]\n",
      " [ 1493 26440   441  1626]\n",
      " [ 4298   709 20247  4746]\n",
      " [ 1449  1409  3844 23298]]\n",
      "trainaccu : 0.7420250177383423\n",
      "confusionmatrix :\n",
      "[[1219  174  416   91]\n",
      " [ 157 1593   41  109]\n",
      " [ 361   79 1198  262]\n",
      " [ 153  126  259 1362]]\n",
      "testaccu : 0.7068421244621277\n",
      "trainloss : 0.6376678488656148\n",
      "confusionmatrix :\n",
      "[[19974  2086  5673  2267]\n",
      " [ 1365 26663   423  1549]\n",
      " [ 3707   609 21482  4202]\n",
      " [ 1163  1264  3355 24218]]\n",
      "trainaccu : 0.769474983215332\n",
      "confusionmatrix :\n",
      "[[ 923  156  565  256]\n",
      " [  64 1565   56  215]\n",
      " [ 180   52 1221  447]\n",
      " [  33   85  181 1601]]\n",
      "testaccu : 0.6986842155456543\n",
      "trainloss : 0.6153668967137205\n",
      "confusionmatrix :\n",
      "[[19713  1994  5971  2322]\n",
      " [ 1165 27129   301  1405]\n",
      " [ 3930   475 21455  4140]\n",
      " [  948  1068  2902 25082]]\n",
      "trainaccu : 0.7781583070755005\n",
      "confusionmatrix :\n",
      "[[ 920  232  521  227]\n",
      " [  52 1660   38  150]\n",
      " [ 166  100 1240  394]\n",
      " [  39  114  166 1581]]\n",
      "testaccu : 0.7106579542160034\n",
      "trainloss : 0.5884010457852756\n",
      "confusionmatrix :\n",
      "[[20478  2080  5277  2165]\n",
      " [ 1243 27337   256  1164]\n",
      " [ 3757   405 21713  4125]\n",
      " [ 1042   891  2543 25524]]\n",
      "trainaccu : 0.7920999526977539\n",
      "confusionmatrix :\n",
      "[[1094  246  395  165]\n",
      " [  49 1630   19  202]\n",
      " [ 237   69 1223  371]\n",
      " [  63   83  165 1589]]\n",
      "testaccu : 0.7284210324287415\n",
      "trainloss : 0.5657492471910489\n",
      "confusionmatrix :\n",
      "[[20890  1953  4846  2311]\n",
      " [ 1166 27343   181  1310]\n",
      " [ 3223   326 22618  3833]\n",
      " [  990   723  2349 25938]]\n",
      "trainaccu : 0.8065750002861023\n",
      "confusionmatrix :\n",
      "[[1430  190  166  114]\n",
      " [ 102 1646   15  137]\n",
      " [ 552   51  990  307]\n",
      " [ 139   80  154 1527]]\n",
      "testaccu : 0.7359210252761841\n",
      "trainloss : 0.5589984110169319\n",
      "confusionmatrix :\n",
      "[[20735  2144  4902  2219]\n",
      " [ 1336 27573   119   972]\n",
      " [ 3274   279 22387  4060]\n",
      " [  966   605  2155 26274]]\n",
      "trainaccu : 0.8080750107765198\n",
      "confusionmatrix :\n",
      "[[1196  277  289  138]\n",
      " [  86 1698    4  112]\n",
      " [ 253   86 1222  339]\n",
      " [  86  103  113 1598]]\n",
      "testaccu : 0.7518420815467834\n",
      "trainloss : 0.526197716530198\n",
      "confusionmatrix :\n",
      "[[20435  2647  4978  1940]\n",
      " [ 1547 27688   103   662]\n",
      " [ 3191   255 23160  3394]\n",
      " [  989   614  1641 26756]]\n",
      "trainaccu : 0.8169916868209839\n",
      "confusionmatrix :\n",
      "[[1329  318  161   92]\n",
      " [ 118 1714    7   61]\n",
      " [ 608   59  984  249]\n",
      " [ 155  114  119 1512]]\n",
      "testaccu : 0.7288157939910889\n",
      "trainloss : 0.4962676268841412\n",
      "confusionmatrix :\n",
      "[[21014  2512  4718  1756]\n",
      " [ 1551 27654   119   676]\n",
      " [ 3190   219 23573  3018]\n",
      " [  906   580  1842 26672]]\n",
      "trainaccu : 0.824275016784668\n",
      "confusionmatrix :\n",
      "[[1227  349  245   79]\n",
      " [  78 1727   19   76]\n",
      " [ 394   66 1246  194]\n",
      " [ 107   95  218 1480]]\n",
      "testaccu : 0.7473684549331665\n"
     ]
    },
    {
     "ename": "KeyboardInterrupt",
     "evalue": "",
     "output_type": "error",
     "traceback": [
      "\u001b[0;31m---------------------------------------------------------------------------\u001b[0m",
      "\u001b[0;31mKeyboardInterrupt\u001b[0m                         Traceback (most recent call last)",
      "Cell \u001b[0;32mIn[13], line 3\u001b[0m\n\u001b[1;32m      1\u001b[0m EPOCHES \u001b[38;5;241m=\u001b[39m \u001b[38;5;241m10\u001b[39m\n\u001b[1;32m      2\u001b[0m \u001b[38;5;28;01mfor\u001b[39;00m epo \u001b[38;5;129;01min\u001b[39;00m \u001b[38;5;28mrange\u001b[39m(EPOCHES):\n\u001b[0;32m----> 3\u001b[0m     \u001b[43mtrain\u001b[49m\u001b[43m(\u001b[49m\u001b[43mmodel\u001b[49m\u001b[43m,\u001b[49m\u001b[43m \u001b[49m\u001b[43mdataloader\u001b[49m\u001b[43m,\u001b[49m\u001b[43m \u001b[49m\u001b[43mcriterion\u001b[49m\u001b[43m,\u001b[49m\u001b[43m \u001b[49m\u001b[43moptimizer\u001b[49m\u001b[43m)\u001b[49m\n\u001b[1;32m      4\u001b[0m     test(model, testloader, criterion)\n",
      "Cell \u001b[0;32mIn[12], line 17\u001b[0m, in \u001b[0;36mtrain\u001b[0;34m(model, dataloader, criterion, optimizer)\u001b[0m\n\u001b[1;32m     15\u001b[0m optimizer\u001b[38;5;241m.\u001b[39mzero_grad()\n\u001b[1;32m     16\u001b[0m loss\u001b[38;5;241m.\u001b[39mbackward()\n\u001b[0;32m---> 17\u001b[0m \u001b[43moptimizer\u001b[49m\u001b[38;5;241;43m.\u001b[39;49m\u001b[43mstep\u001b[49m\u001b[43m(\u001b[49m\u001b[43m)\u001b[49m\n\u001b[1;32m     18\u001b[0m totalloss\u001b[38;5;241m.\u001b[39mappend(loss\u001b[38;5;241m.\u001b[39mitem())\n\u001b[1;32m     20\u001b[0m \u001b[38;5;66;03m# 기울기 소실 및 폭주 예방을 위한 양극단 값 자르기\u001b[39;00m\n",
      "File \u001b[0;32m/media/data/miniconda3/envs/EXAM_DL/lib/python3.9/site-packages/torch/optim/optimizer.py:375\u001b[0m, in \u001b[0;36mOptimizer.profile_hook_step.<locals>.wrapper\u001b[0;34m(*args, **kwargs)\u001b[0m\n\u001b[1;32m    372\u001b[0m profile_name \u001b[38;5;241m=\u001b[39m \u001b[38;5;124mf\u001b[39m\u001b[38;5;124m\"\u001b[39m\u001b[38;5;124mOptimizer.step#\u001b[39m\u001b[38;5;132;01m{\u001b[39;00m\u001b[38;5;28mself\u001b[39m\u001b[38;5;241m.\u001b[39m\u001b[38;5;18m__class__\u001b[39m\u001b[38;5;241m.\u001b[39m\u001b[38;5;18m__name__\u001b[39m\u001b[38;5;132;01m}\u001b[39;00m\u001b[38;5;124m.step\u001b[39m\u001b[38;5;124m\"\u001b[39m\n\u001b[1;32m    373\u001b[0m \u001b[38;5;28;01mwith\u001b[39;00m torch\u001b[38;5;241m.\u001b[39mautograd\u001b[38;5;241m.\u001b[39mprofiler\u001b[38;5;241m.\u001b[39mrecord_function(profile_name):\n\u001b[1;32m    374\u001b[0m     \u001b[38;5;66;03m# call optimizer step pre hooks\u001b[39;00m\n\u001b[0;32m--> 375\u001b[0m     \u001b[38;5;28;01mfor\u001b[39;00m pre_hook \u001b[38;5;129;01min\u001b[39;00m chain(_global_optimizer_pre_hooks\u001b[38;5;241m.\u001b[39mvalues(), \u001b[38;5;28;43mself\u001b[39;49m\u001b[38;5;241;43m.\u001b[39;49m\u001b[43m_optimizer_step_pre_hooks\u001b[49m\u001b[38;5;241m.\u001b[39mvalues()):\n\u001b[1;32m    376\u001b[0m         result \u001b[38;5;241m=\u001b[39m pre_hook(\u001b[38;5;28mself\u001b[39m, args, kwargs)\n\u001b[1;32m    377\u001b[0m         \u001b[38;5;28;01mif\u001b[39;00m result \u001b[38;5;129;01mis\u001b[39;00m \u001b[38;5;129;01mnot\u001b[39;00m \u001b[38;5;28;01mNone\u001b[39;00m:\n",
      "\u001b[0;31mKeyboardInterrupt\u001b[0m: "
     ]
    }
   ],
   "source": [
    "EPOCHES = 10\n",
    "for epo in range(EPOCHES):\n",
    "    train(model, dataloader, criterion, optimizer)\n",
    "    test(model, testloader, criterion)\n",
    "    "
   ]
  },
  {
   "cell_type": "code",
   "execution_count": 25,
   "metadata": {},
   "outputs": [
    {
     "data": {
      "text/plain": [
       "'World'"
      ]
     },
     "execution_count": 25,
     "metadata": {},
     "output_type": "execute_result"
    }
   ],
   "source": [
    "def prediction(model, text, text_pipeline=text_pipeline):\n",
    "    with torch.no_grad():\n",
    "        text = torch.tensor(text_pipeline(text), dtype=torch.int64, device=device)\n",
    "        output = model(text, torch.tensor([0], device=device))\n",
    "        return (output.argmax(1) + 1).item()\n",
    "    \n",
    "\n",
    "ag_news_label = {\n",
    "    1: 'World',\n",
    "    2: 'Sports',\n",
    "    3: 'Business',\n",
    "    4: 'Sci/Tec'\n",
    "}\n",
    "\n",
    "ag_news_label[prediction(model, \"australia open\")]"
   ]
  },
  {
   "cell_type": "code",
   "execution_count": null,
   "metadata": {},
   "outputs": [],
   "source": []
  }
 ],
 "metadata": {
  "kernelspec": {
   "display_name": "EXAM_DL",
   "language": "python",
   "name": "python3"
  },
  "language_info": {
   "codemirror_mode": {
    "name": "ipython",
    "version": 3
   },
   "file_extension": ".py",
   "mimetype": "text/x-python",
   "name": "python",
   "nbconvert_exporter": "python",
   "pygments_lexer": "ipython3",
   "version": "3.9.19"
  }
 },
 "nbformat": 4,
 "nbformat_minor": 2
}
