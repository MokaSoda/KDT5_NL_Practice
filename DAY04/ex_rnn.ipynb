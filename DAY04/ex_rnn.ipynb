{
 "cells": [
  {
   "cell_type": "markdown",
   "metadata": {},
   "source": [
    "#### 순환신경망 RNN\n",
    "<hr>\n",
    "\n"
   ]
  },
  {
   "cell_type": "code",
   "execution_count": 88,
   "metadata": {},
   "outputs": [],
   "source": [
    "import torch\n",
    "import torch.nn as nn\n"
   ]
  },
  {
   "cell_type": "code",
   "execution_count": 89,
   "metadata": {},
   "outputs": [
    {
     "name": "stdout",
     "output_type": "stream",
     "text": [
      "tensor([[[-0.5182],\n",
      "         [ 0.0756],\n",
      "         [-0.8578]]], grad_fn=<StackBackward0>) tensor([[[-0.9872],\n",
      "         [ 0.2346],\n",
      "         [-0.9931]],\n",
      "\n",
      "        [[-0.5182],\n",
      "         [ 0.0756],\n",
      "         [-0.8578]]], grad_fn=<StackBackward0>)\n"
     ]
    }
   ],
   "source": [
    "input = torch.randn(1,3,10) # 입력 데이터 (배치크기, 시퀀스길이, 피쳐길이)\n",
    "h0 = torch.randn(2,3,1) # 히든 초기값\n",
    "\n",
    "rnn = nn.RNN(input_size=10, hidden_size=1, num_layers=2)\n",
    "output, hn = rnn(input, h0)\n",
    "\n",
    "print(output, hn)"
   ]
  },
  {
   "cell_type": "code",
   "execution_count": 90,
   "metadata": {},
   "outputs": [],
   "source": [
    "### 설계 : 다층 RNN, 총 2개\n",
    "### 입력\n",
    "### ------------------------\n",
    "\n",
    "HIDDEN_SIZE = 1\n",
    "NUM_LAYERS = 1\n",
    "SEQ_LENGTH = 3\n",
    "BATCH_SIZE = 1\n",
    "\n",
    "BIDIRECTIONAL = False\n",
    "MULTIPLYER = 2 if BIDIRECTIONAL else 1\n",
    "## 배치사이즈, 시퀀스 (1개문장구성 단어수), 피쳐수(1개단어 표현하는 수)\n",
    "user =  torch.randn(BATCH_SIZE, SEQ_LENGTH, 10)\n",
    "\n",
    "## 층수 * 양방향, 배치사이즈, 아웃 히든 사이즈, [히든 스테이트 초기화]\n",
    "h0 = torch.randn(MULTIPLYER * NUM_LAYERS, BATCH_SIZE, HIDDEN_SIZE)\n",
    "\n",
    "# RNN 인스턴스\n",
    "rnn = nn.RNN(10, HIDDEN_SIZE, NUM_LAYERS, bidirectional=BIDIRECTIONAL, batch_first=True)\n",
    "\n",
    "# 출력 텐서들\n",
    "output, hn = rnn(user, h0)\n"
   ]
  },
  {
   "cell_type": "code",
   "execution_count": 91,
   "metadata": {},
   "outputs": [
    {
     "name": "stdout",
     "output_type": "stream",
     "text": [
      "input data : torch.Size([1, 3, 10]), dim : 3D\n"
     ]
    }
   ],
   "source": [
    "print(f\"input data : {user.shape}, dim : {user.ndim}D\")\n"
   ]
  },
  {
   "cell_type": "code",
   "execution_count": 92,
   "metadata": {},
   "outputs": [
    {
     "name": "stdout",
     "output_type": "stream",
     "text": [
      " rnn 출력 : torch.Size([1, 1, 3]), dim : 3D\n"
     ]
    },
    {
     "data": {
      "text/plain": [
       "tensor([[[ 0.5506,  0.2746, -0.7051]]], grad_fn=<StackBackward0>)"
      ]
     },
     "execution_count": 92,
     "metadata": {},
     "output_type": "execute_result"
    }
   ],
   "source": [
    "print(f\" rnn 출력 : {hn.shape}, dim : {hn.ndim}D\")\n",
    "hn"
   ]
  },
  {
   "cell_type": "code",
   "execution_count": 93,
   "metadata": {},
   "outputs": [
    {
     "name": "stdout",
     "output_type": "stream",
     "text": [
      "[name] : weight_ih_l0, Parameter containing:\n",
      "tensor([[-0.1576, -0.5539,  0.2259, -0.3247, -0.2661, -0.3457, -0.1584,  0.0563,\n",
      "         -0.2150, -0.4387],\n",
      "        [-0.0498, -0.5119, -0.3126,  0.3201, -0.0241, -0.5584, -0.0158, -0.1566,\n",
      "         -0.1876, -0.3093],\n",
      "        [-0.4976,  0.5599, -0.1196,  0.2324,  0.2207, -0.2485, -0.2081, -0.3814,\n",
      "         -0.0022, -0.5723]], requires_grad=True)\n",
      "[name] : weight_hh_l0, Parameter containing:\n",
      "tensor([[-0.1633, -0.2360, -0.1283],\n",
      "        [ 0.0616,  0.1061,  0.1337],\n",
      "        [-0.0900,  0.1600,  0.0552]], requires_grad=True)\n",
      "[name] : bias_ih_l0, Parameter containing:\n",
      "tensor([-0.5041,  0.2481,  0.2385], requires_grad=True)\n",
      "[name] : bias_hh_l0, Parameter containing:\n",
      "tensor([-0.3431, -0.2271,  0.3775], requires_grad=True)\n"
     ]
    }
   ],
   "source": [
    "for name, params in rnn.named_parameters():\n",
    "    print(f\"[name] : {name}, {params}\")"
   ]
  },
  {
   "cell_type": "code",
   "execution_count": 94,
   "metadata": {},
   "outputs": [
    {
     "name": "stdout",
     "output_type": "stream",
     "text": [
      "torch.Size([1, 3, 3]) torch.Size([1, 1, 3])\n"
     ]
    }
   ],
   "source": [
    "\n",
    "print(output.shape, hn.shape)"
   ]
  },
  {
   "cell_type": "code",
   "execution_count": 95,
   "metadata": {},
   "outputs": [
    {
     "name": "stdout",
     "output_type": "stream",
     "text": [
      "[all_weights] : 1개\n",
      "[weight] : 4개\n",
      "3\n",
      "3\n",
      "3\n",
      "3\n"
     ]
    }
   ],
   "source": [
    "### rnn 모델의 속성 출력\n",
    "print(f\"[all_weights] : {rnn.all_weights.__len__()}개\")\n",
    "for weight in rnn.all_weights:\n",
    "    print(f\"[weight] : {weight.__len__()}개\")\n",
    "    for detailweight in weight:\n",
    "        print(detailweight.__len__())"
   ]
  },
  {
   "cell_type": "code",
   "execution_count": 96,
   "metadata": {},
   "outputs": [
    {
     "name": "stdout",
     "output_type": "stream",
     "text": [
      "[name] : weight_ih_l0\n",
      "[param] : torch.Size([3, 10])\n",
      "[name] : weight_hh_l0\n",
      "[param] : torch.Size([3, 3])\n",
      "[name] : bias_ih_l0\n",
      "[param] : torch.Size([3])\n",
      "[name] : bias_hh_l0\n",
      "[param] : torch.Size([3])\n"
     ]
    }
   ],
   "source": [
    "for name, param in rnn.named_parameters():\n",
    "    print(f\"[name] : {name}\")\n",
    "    print(f\"[param] : {param.size()}\")"
   ]
  },
  {
   "cell_type": "code",
   "execution_count": 97,
   "metadata": {},
   "outputs": [
    {
     "data": {
      "text/plain": [
       "=================================================================\n",
       "Layer (type:depth-idx)                   Param #\n",
       "=================================================================\n",
       "RNN                                      45\n",
       "=================================================================\n",
       "Total params: 45\n",
       "Trainable params: 45\n",
       "Non-trainable params: 0\n",
       "================================================================="
      ]
     },
     "execution_count": 97,
     "metadata": {},
     "output_type": "execute_result"
    }
   ],
   "source": [
    "from torchinfo import summary\n",
    "summary(rnn)"
   ]
  },
  {
   "cell_type": "code",
   "execution_count": 98,
   "metadata": {},
   "outputs": [
    {
     "data": {
      "text/plain": [
       "torch.Size([1, 3, 3])"
      ]
     },
     "execution_count": 98,
     "metadata": {},
     "output_type": "execute_result"
    }
   ],
   "source": [
    "### RNN 출력 텐서 output\n",
    "output.shape"
   ]
  },
  {
   "cell_type": "code",
   "execution_count": 99,
   "metadata": {},
   "outputs": [
    {
     "data": {
      "text/plain": [
       "'rnn.png'"
      ]
     },
     "execution_count": 99,
     "metadata": {},
     "output_type": "execute_result"
    }
   ],
   "source": [
    "from torchviz import make_dot\n",
    "\n",
    "make_dot(output, params=dict(list(rnn.named_parameters()))).render(\"rnn\", format=\"png\")"
   ]
  },
  {
   "cell_type": "code",
   "execution_count": 100,
   "metadata": {},
   "outputs": [],
   "source": [
    "# !conda env export > environment.yaml"
   ]
  }
 ],
 "metadata": {
  "kernelspec": {
   "display_name": "EXAM_DL",
   "language": "python",
   "name": "python3"
  },
  "language_info": {
   "codemirror_mode": {
    "name": "ipython",
    "version": 3
   },
   "file_extension": ".py",
   "mimetype": "text/x-python",
   "name": "python",
   "nbconvert_exporter": "python",
   "pygments_lexer": "ipython3",
   "version": "3.9.19"
  }
 },
 "nbformat": 4,
 "nbformat_minor": 2
}
