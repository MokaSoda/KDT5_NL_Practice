{
 "cells": [
  {
   "cell_type": "markdown",
   "metadata": {},
   "source": [
    "#### 순환신경망 RNN\n",
    "<hr>\n",
    "\n"
   ]
  },
  {
   "cell_type": "code",
   "execution_count": 2,
   "metadata": {},
   "outputs": [],
   "source": [
    "import torch\n",
    "import torch.nn as nn\n"
   ]
  },
  {
   "cell_type": "code",
   "execution_count": 6,
   "metadata": {},
   "outputs": [
    {
     "name": "stdout",
     "output_type": "stream",
     "text": [
      "tensor([[[ 0.2799],\n",
      "         [ 0.8734],\n",
      "         [-0.3211]]], grad_fn=<StackBackward0>) tensor([[[-0.7914],\n",
      "         [ 0.9722],\n",
      "         [-0.9601]],\n",
      "\n",
      "        [[ 0.2799],\n",
      "         [ 0.8734],\n",
      "         [-0.3211]]], grad_fn=<StackBackward0>)\n"
     ]
    }
   ],
   "source": [
    "input = torch.randn(1,3,10) # 입력 데이터 (배치크기, 시퀀스길이, 피쳐길이)\n",
    "h0 = torch.randn(2,3,1) # 히든 초기값\n",
    "\n",
    "rnn = nn.RNN(input_size=10, hidden_size=1, num_layers=2)\n",
    "output, hn = rnn(input, h0)\n",
    "\n",
    "print(output, hn)"
   ]
  },
  {
   "cell_type": "code",
   "execution_count": 70,
   "metadata": {},
   "outputs": [
    {
     "name": "stdout",
     "output_type": "stream",
     "text": [
      "torch.Size([5, 3, 10]) torch.Size([5, 5, 10])\n"
     ]
    }
   ],
   "source": [
    "### 설계 : 다층 RNN, 총 2개\n",
    "### 입력\n",
    "### ------------------------\n",
    "\n",
    "BIDIRECTIONAL = False\n",
    "MULTIPLYER = 2 if BIDIRECTIONAL else 1\n",
    "## 배치사이즈, 시퀀스 (1개문장구성 단어수), 피쳐수(1개단어 표현하는 수)\n",
    "user =  torch.randn(5, 3, 10)\n",
    "\n",
    "## 층수 * 양방향, 배치사이즈, 아웃, [히든 스테이트 초기화]\n",
    "h0 = torch.randn(MULTIPLYER * 5, 5, 10)\n",
    "\n",
    "# RNN 인스턴스\n",
    "rnn = nn.RNN(10, 10, 5, bidirectional=BIDIRECTIONAL, batch_first=True)\n",
    "\n",
    "# 출력 텐서들\n",
    "output, hn = rnn(user, h0)\n",
    "\n",
    "print(output.shape, hn.shape)"
   ]
  },
  {
   "cell_type": "code",
   "execution_count": 60,
   "metadata": {},
   "outputs": [
    {
     "name": "stdout",
     "output_type": "stream",
     "text": [
      "[all_weights] : 5개\n",
      "[weight] : 4개\n",
      "10\n",
      "10\n",
      "10\n",
      "10\n",
      "[weight] : 4개\n",
      "10\n",
      "10\n",
      "10\n",
      "10\n",
      "[weight] : 4개\n",
      "10\n",
      "10\n",
      "10\n",
      "10\n",
      "[weight] : 4개\n",
      "10\n",
      "10\n",
      "10\n",
      "10\n",
      "[weight] : 4개\n",
      "10\n",
      "10\n",
      "10\n",
      "10\n"
     ]
    }
   ],
   "source": [
    "### rnn 모델의 속성 출력\n",
    "print(f\"[all_weights] : {rnn.all_weights.__len__()}개\")\n",
    "for weight in rnn.all_weights:\n",
    "    print(f\"[weight] : {weight.__len__()}개\")\n",
    "    for detailweight in weight:\n",
    "        print(detailweight.__len__())"
   ]
  },
  {
   "cell_type": "code",
   "execution_count": 62,
   "metadata": {},
   "outputs": [
    {
     "name": "stdout",
     "output_type": "stream",
     "text": [
      "[name] : weight_ih_l0\n",
      "[param] : torch.Size([10, 10])\n",
      "[name] : weight_hh_l0\n",
      "[param] : torch.Size([10, 10])\n",
      "[name] : bias_ih_l0\n",
      "[param] : torch.Size([10])\n",
      "[name] : bias_hh_l0\n",
      "[param] : torch.Size([10])\n",
      "[name] : weight_ih_l1\n",
      "[param] : torch.Size([10, 10])\n",
      "[name] : weight_hh_l1\n",
      "[param] : torch.Size([10, 10])\n",
      "[name] : bias_ih_l1\n",
      "[param] : torch.Size([10])\n",
      "[name] : bias_hh_l1\n",
      "[param] : torch.Size([10])\n",
      "[name] : weight_ih_l2\n",
      "[param] : torch.Size([10, 10])\n",
      "[name] : weight_hh_l2\n",
      "[param] : torch.Size([10, 10])\n",
      "[name] : bias_ih_l2\n",
      "[param] : torch.Size([10])\n",
      "[name] : bias_hh_l2\n",
      "[param] : torch.Size([10])\n",
      "[name] : weight_ih_l3\n",
      "[param] : torch.Size([10, 10])\n",
      "[name] : weight_hh_l3\n",
      "[param] : torch.Size([10, 10])\n",
      "[name] : bias_ih_l3\n",
      "[param] : torch.Size([10])\n",
      "[name] : bias_hh_l3\n",
      "[param] : torch.Size([10])\n",
      "[name] : weight_ih_l4\n",
      "[param] : torch.Size([10, 10])\n",
      "[name] : weight_hh_l4\n",
      "[param] : torch.Size([10, 10])\n",
      "[name] : bias_ih_l4\n",
      "[param] : torch.Size([10])\n",
      "[name] : bias_hh_l4\n",
      "[param] : torch.Size([10])\n"
     ]
    }
   ],
   "source": [
    "for name, param in rnn.named_parameters():\n",
    "    print(f\"[name] : {name}\")\n",
    "    print(f\"[param] : {param.size()}\")"
   ]
  },
  {
   "cell_type": "code",
   "execution_count": 64,
   "metadata": {},
   "outputs": [
    {
     "data": {
      "text/plain": [
       "=================================================================\n",
       "Layer (type:depth-idx)                   Param #\n",
       "=================================================================\n",
       "RNN                                      1,100\n",
       "=================================================================\n",
       "Total params: 1,100\n",
       "Trainable params: 1,100\n",
       "Non-trainable params: 0\n",
       "================================================================="
      ]
     },
     "execution_count": 64,
     "metadata": {},
     "output_type": "execute_result"
    }
   ],
   "source": [
    "from torchinfo import summary\n",
    "summary(rnn)"
   ]
  },
  {
   "cell_type": "code",
   "execution_count": 65,
   "metadata": {},
   "outputs": [
    {
     "data": {
      "text/plain": [
       "torch.Size([5, 3, 10])"
      ]
     },
     "execution_count": 65,
     "metadata": {},
     "output_type": "execute_result"
    }
   ],
   "source": [
    "### RNN 출력 텐서 output\n",
    "output.shape"
   ]
  },
  {
   "cell_type": "code",
   "execution_count": 67,
   "metadata": {},
   "outputs": [
    {
     "data": {
      "text/plain": [
       "'rnn.png'"
      ]
     },
     "execution_count": 67,
     "metadata": {},
     "output_type": "execute_result"
    }
   ],
   "source": [
    "from torchviz import make_dot\n",
    "\n",
    "make_dot(output, params=dict(list(rnn.named_parameters()))).render(\"rnn\", format=\"png\")"
   ]
  },
  {
   "cell_type": "code",
   "execution_count": null,
   "metadata": {},
   "outputs": [],
   "source": []
  }
 ],
 "metadata": {
  "kernelspec": {
   "display_name": "EXAM_DL",
   "language": "python",
   "name": "python3"
  },
  "language_info": {
   "codemirror_mode": {
    "name": "ipython",
    "version": 3
   },
   "file_extension": ".py",
   "mimetype": "text/x-python",
   "name": "python",
   "nbconvert_exporter": "python",
   "pygments_lexer": "ipython3",
   "version": "3.9.19"
  }
 },
 "nbformat": 4,
 "nbformat_minor": 2
}
